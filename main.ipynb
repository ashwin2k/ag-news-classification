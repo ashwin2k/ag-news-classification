{
 "cells": [
  {
   "cell_type": "code",
   "execution_count": 1,
   "metadata": {},
   "outputs": [],
   "source": [
    "from datasets import load_dataset\n",
    "from transformers import RobertaTokenizer,RobertaForSequenceClassification\n",
    "import random\n",
    "import numpy as np\n",
    "import pandas as pd\n",
    "import torch\n",
    "import matplotlib.pyplot as plt"
   ]
  },
  {
   "cell_type": "markdown",
   "metadata": {},
   "source": [
    "# Loading Dataset"
   ]
  },
  {
   "cell_type": "code",
   "execution_count": 2,
   "metadata": {},
   "outputs": [
    {
     "data": {
      "application/vnd.jupyter.widget-view+json": {
       "model_id": "819e2a017904479bafce5b188301c218",
       "version_major": 2,
       "version_minor": 0
      },
      "text/plain": [
       "Downloading builder script:   0%|          | 0.00/4.06k [00:00<?, ?B/s]"
      ]
     },
     "metadata": {},
     "output_type": "display_data"
    },
    {
     "data": {
      "application/vnd.jupyter.widget-view+json": {
       "model_id": "ac95eeaebd7a472c92859d4f295e456d",
       "version_major": 2,
       "version_minor": 0
      },
      "text/plain": [
       "Downloading metadata:   0%|          | 0.00/2.65k [00:00<?, ?B/s]"
      ]
     },
     "metadata": {},
     "output_type": "display_data"
    },
    {
     "data": {
      "application/vnd.jupyter.widget-view+json": {
       "model_id": "62fe5873d7384d22b94df0ba384321e9",
       "version_major": 2,
       "version_minor": 0
      },
      "text/plain": [
       "Downloading readme:   0%|          | 0.00/7.95k [00:00<?, ?B/s]"
      ]
     },
     "metadata": {},
     "output_type": "display_data"
    },
    {
     "name": "stdout",
     "output_type": "stream",
     "text": [
      "Downloading and preparing dataset ag_news/default to /root/.cache/huggingface/datasets/ag_news/default/0.0.0/bc2bcb40336ace1a0374767fc29bb0296cdaf8a6da7298436239c54d79180548...\n"
     ]
    },
    {
     "data": {
      "application/vnd.jupyter.widget-view+json": {
       "model_id": "57686e93e0ce4ecb93f5429493471065",
       "version_major": 2,
       "version_minor": 0
      },
      "text/plain": [
       "Downloading data:   0%|          | 0.00/11.0M [00:00<?, ?B/s]"
      ]
     },
     "metadata": {},
     "output_type": "display_data"
    },
    {
     "data": {
      "application/vnd.jupyter.widget-view+json": {
       "model_id": "070c50405abc4b019a265b7c9b88003b",
       "version_major": 2,
       "version_minor": 0
      },
      "text/plain": [
       "Downloading data:   0%|          | 0.00/751k [00:00<?, ?B/s]"
      ]
     },
     "metadata": {},
     "output_type": "display_data"
    },
    {
     "data": {
      "application/vnd.jupyter.widget-view+json": {
       "model_id": "",
       "version_major": 2,
       "version_minor": 0
      },
      "text/plain": [
       "Generating train split:   0%|          | 0/120000 [00:00<?, ? examples/s]"
      ]
     },
     "metadata": {},
     "output_type": "display_data"
    },
    {
     "data": {
      "application/vnd.jupyter.widget-view+json": {
       "model_id": "",
       "version_major": 2,
       "version_minor": 0
      },
      "text/plain": [
       "Generating test split:   0%|          | 0/7600 [00:00<?, ? examples/s]"
      ]
     },
     "metadata": {},
     "output_type": "display_data"
    },
    {
     "name": "stdout",
     "output_type": "stream",
     "text": [
      "Dataset ag_news downloaded and prepared to /root/.cache/huggingface/datasets/ag_news/default/0.0.0/bc2bcb40336ace1a0374767fc29bb0296cdaf8a6da7298436239c54d79180548. Subsequent calls will reuse this data.\n"
     ]
    },
    {
     "data": {
      "application/vnd.jupyter.widget-view+json": {
       "model_id": "bbede31fbbfd4ac89d75fedcebf0a3f2",
       "version_major": 2,
       "version_minor": 0
      },
      "text/plain": [
       "  0%|          | 0/2 [00:00<?, ?it/s]"
      ]
     },
     "metadata": {},
     "output_type": "display_data"
    }
   ],
   "source": [
    "ag_news_dataset = load_dataset(\"ag_news\").shuffle(seed = 27)"
   ]
  },
  {
   "cell_type": "code",
   "execution_count": 39,
   "metadata": {},
   "outputs": [
    {
     "data": {
      "text/plain": [
       "DatasetDict({\n",
       "    train: Dataset({\n",
       "        features: ['text', 'label'],\n",
       "        num_rows: 120000\n",
       "    })\n",
       "    test: Dataset({\n",
       "        features: ['text', 'label'],\n",
       "        num_rows: 7600\n",
       "    })\n",
       "})"
      ]
     },
     "execution_count": 39,
     "metadata": {},
     "output_type": "execute_result"
    }
   ],
   "source": [
    "ag_news_dataset"
   ]
  },
  {
   "cell_type": "code",
   "execution_count": 3,
   "metadata": {},
   "outputs": [],
   "source": [
    "label_mapping = {\n",
    "    0:\"World\",\n",
    "    1:\"Sports\",\n",
    "    2:\"Business\",\n",
    "    3:\"Sci/Tech\"\n",
    "}"
   ]
  },
  {
   "cell_type": "code",
   "execution_count": 4,
   "metadata": {},
   "outputs": [
    {
     "data": {
      "text/html": [
       "<div>\n",
       "<style scoped>\n",
       "    .dataframe tbody tr th:only-of-type {\n",
       "        vertical-align: middle;\n",
       "    }\n",
       "\n",
       "    .dataframe tbody tr th {\n",
       "        vertical-align: top;\n",
       "    }\n",
       "\n",
       "    .dataframe thead th {\n",
       "        text-align: right;\n",
       "    }\n",
       "</style>\n",
       "<table border=\"1\" class=\"dataframe\">\n",
       "  <thead>\n",
       "    <tr style=\"text-align: right;\">\n",
       "      <th></th>\n",
       "      <th>text</th>\n",
       "      <th>label</th>\n",
       "      <th>label_decoded</th>\n",
       "    </tr>\n",
       "  </thead>\n",
       "  <tbody>\n",
       "    <tr>\n",
       "      <th>0</th>\n",
       "      <td>Oil Up 4 Pct, Heating Oil Supplies Fall  LONDO...</td>\n",
       "      <td>2</td>\n",
       "      <td>Business</td>\n",
       "    </tr>\n",
       "    <tr>\n",
       "      <th>1</th>\n",
       "      <td>Gallacher #39;s wedge shot wraps up  #39;dream...</td>\n",
       "      <td>1</td>\n",
       "      <td>Sports</td>\n",
       "    </tr>\n",
       "    <tr>\n",
       "      <th>2</th>\n",
       "      <td>Singh eclipses Tiger with record pile Farmingt...</td>\n",
       "      <td>1</td>\n",
       "      <td>Sports</td>\n",
       "    </tr>\n",
       "    <tr>\n",
       "      <th>3</th>\n",
       "      <td>Snow Supports Strong Dollar, #39; Says Markets...</td>\n",
       "      <td>2</td>\n",
       "      <td>Business</td>\n",
       "    </tr>\n",
       "    <tr>\n",
       "      <th>4</th>\n",
       "      <td>Wizards Pound Hornets Washington forces a slop...</td>\n",
       "      <td>1</td>\n",
       "      <td>Sports</td>\n",
       "    </tr>\n",
       "    <tr>\n",
       "      <th>5</th>\n",
       "      <td>Cardinals' La Russa: A Man for All Seasons, Ex...</td>\n",
       "      <td>1</td>\n",
       "      <td>Sports</td>\n",
       "    </tr>\n",
       "    <tr>\n",
       "      <th>6</th>\n",
       "      <td>Dell Axim X50 and X50v Pocket PC reviews round...</td>\n",
       "      <td>3</td>\n",
       "      <td>Sci/Tech</td>\n",
       "    </tr>\n",
       "    <tr>\n",
       "      <th>7</th>\n",
       "      <td>Ex-Kosovo Rebels Face First Hague War Crimes T...</td>\n",
       "      <td>0</td>\n",
       "      <td>World</td>\n",
       "    </tr>\n",
       "    <tr>\n",
       "      <th>8</th>\n",
       "      <td>Boston College 24, No. 24 Notre Dame 23 Paul P...</td>\n",
       "      <td>1</td>\n",
       "      <td>Sports</td>\n",
       "    </tr>\n",
       "    <tr>\n",
       "      <th>9</th>\n",
       "      <td>British hostage reportedly still alive in Iraq...</td>\n",
       "      <td>0</td>\n",
       "      <td>World</td>\n",
       "    </tr>\n",
       "  </tbody>\n",
       "</table>\n",
       "</div>"
      ],
      "text/plain": [
       "                                                text  label label_decoded\n",
       "0  Oil Up 4 Pct, Heating Oil Supplies Fall  LONDO...      2      Business\n",
       "1  Gallacher #39;s wedge shot wraps up  #39;dream...      1        Sports\n",
       "2  Singh eclipses Tiger with record pile Farmingt...      1        Sports\n",
       "3  Snow Supports Strong Dollar, #39; Says Markets...      2      Business\n",
       "4  Wizards Pound Hornets Washington forces a slop...      1        Sports\n",
       "5  Cardinals' La Russa: A Man for All Seasons, Ex...      1        Sports\n",
       "6  Dell Axim X50 and X50v Pocket PC reviews round...      3      Sci/Tech\n",
       "7  Ex-Kosovo Rebels Face First Hague War Crimes T...      0         World\n",
       "8  Boston College 24, No. 24 Notre Dame 23 Paul P...      1        Sports\n",
       "9  British hostage reportedly still alive in Iraq...      0         World"
      ]
     },
     "execution_count": 4,
     "metadata": {},
     "output_type": "execute_result"
    }
   ],
   "source": [
    "def dataset_head():\n",
    "    head=[]\n",
    "    for _ in range(10):\n",
    "        idx=random.randint(0,len(ag_news_dataset['train'])-1)\n",
    "        head.append(idx)\n",
    "    df = pd.DataFrame(ag_news_dataset['train'][head])\n",
    "    df['label_decoded'] = [label_mapping[int(x)] for x in df['label']]\n",
    "    return df\n",
    "dataset_head()"
   ]
  },
  {
   "cell_type": "markdown",
   "metadata": {},
   "source": [
    "# Initializing tokenizer and helper functions\n",
    "We pass every sentence in the dataset into the tokenizer. `max_length` is fixed as 64 so that every encoding is of the same length"
   ]
  },
  {
   "cell_type": "code",
   "execution_count": 5,
   "metadata": {},
   "outputs": [
    {
     "data": {
      "application/vnd.jupyter.widget-view+json": {
       "model_id": "cc8e1b6df1b1405ea2b25bf28865ed87",
       "version_major": 2,
       "version_minor": 0
      },
      "text/plain": [
       "Downloading (…)olve/main/vocab.json:   0%|          | 0.00/899k [00:00<?, ?B/s]"
      ]
     },
     "metadata": {},
     "output_type": "display_data"
    },
    {
     "data": {
      "application/vnd.jupyter.widget-view+json": {
       "model_id": "92ae5d82d5ec4fb2ab5fc141d4b0c901",
       "version_major": 2,
       "version_minor": 0
      },
      "text/plain": [
       "Downloading (…)olve/main/merges.txt:   0%|          | 0.00/456k [00:00<?, ?B/s]"
      ]
     },
     "metadata": {},
     "output_type": "display_data"
    },
    {
     "data": {
      "application/vnd.jupyter.widget-view+json": {
       "model_id": "62c72af41f8c41488f03f727e26224ef",
       "version_major": 2,
       "version_minor": 0
      },
      "text/plain": [
       "Downloading (…)lve/main/config.json:   0%|          | 0.00/481 [00:00<?, ?B/s]"
      ]
     },
     "metadata": {},
     "output_type": "display_data"
    }
   ],
   "source": [
    "tokenizer = RobertaTokenizer.from_pretrained(\"roberta-base\")"
   ]
  },
  {
   "cell_type": "code",
   "execution_count": 6,
   "metadata": {},
   "outputs": [],
   "source": [
    "def tokenizer_helper(sentences):\n",
    "    # print(sentences)\n",
    "    return tokenizer(sentences['text'],truncation=True,max_length=64,padding='max_length')"
   ]
  },
  {
   "cell_type": "code",
   "execution_count": 7,
   "metadata": {},
   "outputs": [
    {
     "data": {
      "application/vnd.jupyter.widget-view+json": {
       "model_id": "",
       "version_major": 2,
       "version_minor": 0
      },
      "text/plain": [
       "Map:   0%|          | 0/120000 [00:00<?, ? examples/s]"
      ]
     },
     "metadata": {},
     "output_type": "display_data"
    },
    {
     "data": {
      "application/vnd.jupyter.widget-view+json": {
       "model_id": "",
       "version_major": 2,
       "version_minor": 0
      },
      "text/plain": [
       "Map:   0%|          | 0/7600 [00:00<?, ? examples/s]"
      ]
     },
     "metadata": {},
     "output_type": "display_data"
    }
   ],
   "source": [
    "# Seperating the train and test dataset\n",
    "train_dataset = ag_news_dataset['train'].map(tokenizer_helper,batched=True)\n",
    "test_dataset= ag_news_dataset['test'].map(tokenizer_helper,batched=True)"
   ]
  },
  {
   "cell_type": "code",
   "execution_count": 8,
   "metadata": {},
   "outputs": [],
   "source": [
    "# Extracting the input ids, labels and attention masks\n",
    "train_dataset_seq = train_dataset['input_ids']\n",
    "train_dataset_labels = train_dataset['label']\n",
    "train_dataset_masks = train_dataset['attention_mask']\n",
    "\n",
    "test_dataset_seq = test_dataset['input_ids']\n",
    "test_dataset_labels = test_dataset['label']\n",
    "test_dataset_masks = test_dataset['attention_mask']\n"
   ]
  },
  {
   "cell_type": "code",
   "execution_count": 9,
   "metadata": {},
   "outputs": [],
   "source": [
    "# Converting the above data into torch tensors\n",
    "train_dataset_seq = torch.Tensor(train_dataset_seq)\n",
    "train_dataset_labels = torch.Tensor(train_dataset_labels)\n",
    "train_dataset_masks =torch.Tensor(train_dataset_masks)\n",
    "test_dataset_seq = torch.Tensor(test_dataset_seq)\n",
    "test_dataset_labels = torch.Tensor(test_dataset_labels)\n",
    "test_dataset_masks =torch.Tensor(test_dataset_masks)"
   ]
  },
  {
   "cell_type": "code",
   "execution_count": 11,
   "metadata": {},
   "outputs": [],
   "source": [
    "from tqdm import tqdm\n",
    "from torch.utils.data import TensorDataset,DataLoader, RandomSampler\n",
    "import torch.optim as optim\n",
    "import torch.nn as nn\n",
    "from sklearn.metrics import precision_score, recall_score, f1_score"
   ]
  },
  {
   "cell_type": "code",
   "execution_count": 20,
   "metadata": {},
   "outputs": [
    {
     "name": "stderr",
     "output_type": "stream",
     "text": [
      "Some weights of the model checkpoint at roberta-base were not used when initializing RobertaForSequenceClassification: ['lm_head.bias', 'lm_head.layer_norm.weight', 'lm_head.layer_norm.bias', 'lm_head.decoder.weight', 'lm_head.dense.weight', 'lm_head.dense.bias', 'roberta.pooler.dense.weight', 'roberta.pooler.dense.bias']\n",
      "- This IS expected if you are initializing RobertaForSequenceClassification from the checkpoint of a model trained on another task or with another architecture (e.g. initializing a BertForSequenceClassification model from a BertForPreTraining model).\n",
      "- This IS NOT expected if you are initializing RobertaForSequenceClassification from the checkpoint of a model that you expect to be exactly identical (initializing a BertForSequenceClassification model from a BertForSequenceClassification model).\n",
      "Some weights of RobertaForSequenceClassification were not initialized from the model checkpoint at roberta-base and are newly initialized: ['classifier.dense.bias', 'classifier.dense.weight', 'classifier.out_proj.bias', 'classifier.out_proj.weight']\n",
      "You should probably TRAIN this model on a down-stream task to be able to use it for predictions and inference.\n",
      "  0%|          | 0/1875 [00:00<?, ?it/s]/tmp/ipykernel_600/2716866438.py:46: UserWarning: Implicit dimension choice for softmax has been deprecated. Change the call to include dim=X as an argument.\n",
      "  soft_preds = nn.Softmax()(preds)\n",
      "loss = 428.6209362745285  accuracy = 0.90625: 100%|██████████| 1875/1875 [02:48<00:00, 11.13it/s]  \n",
      "/tmp/ipykernel_600/2716866438.py:68: UserWarning: Implicit dimension choice for softmax has been deprecated. Change the call to include dim=X as an argument.\n",
      "  soft_preds = nn.Softmax()(preds)\n",
      " 20%|██        | 1/5 [02:51<11:25, 171.42s/it]"
     ]
    },
    {
     "name": "stdout",
     "output_type": "stream",
     "text": [
      "{'val_acc': tensor(0.9388, device='cuda:0'), 'val_loss': 0.18388852757253066}\n",
      "{'macro_precision': 0.941185043241485, 'macro_recall': 0.9407894736842105, 'macro_f1': 0.9408406756076862}\n"
     ]
    },
    {
     "name": "stderr",
     "output_type": "stream",
     "text": [
      "  0%|          | 0/1875 [00:00<?, ?it/s]/tmp/ipykernel_600/2716866438.py:46: UserWarning: Implicit dimension choice for softmax has been deprecated. Change the call to include dim=X as an argument.\n",
      "  soft_preds = nn.Softmax()(preds)\n",
      "loss = 274.57140460424125  accuracy = 0.953125: 100%|██████████| 1875/1875 [02:48<00:00, 11.10it/s]\n",
      "/tmp/ipykernel_600/2716866438.py:68: UserWarning: Implicit dimension choice for softmax has been deprecated. Change the call to include dim=X as an argument.\n",
      "  soft_preds = nn.Softmax()(preds)\n",
      " 40%|████      | 2/5 [05:43<08:35, 171.71s/it]"
     ]
    },
    {
     "name": "stdout",
     "output_type": "stream",
     "text": [
      "{'val_acc': tensor(0.9422, device='cuda:0'), 'val_loss': 0.17681024588268845}\n",
      "{'macro_precision': 0.9447833361599921, 'macro_recall': 0.9442105263157894, 'macro_f1': 0.9441816787215507}\n"
     ]
    },
    {
     "name": "stderr",
     "output_type": "stream",
     "text": [
      "  0%|          | 0/1875 [00:00<?, ?it/s]/tmp/ipykernel_600/2716866438.py:46: UserWarning: Implicit dimension choice for softmax has been deprecated. Change the call to include dim=X as an argument.\n",
      "  soft_preds = nn.Softmax()(preds)\n",
      "loss = 209.7871038033627  accuracy = 0.96875: 100%|██████████| 1875/1875 [02:48<00:00, 11.14it/s]  \n",
      "/tmp/ipykernel_600/2716866438.py:68: UserWarning: Implicit dimension choice for softmax has been deprecated. Change the call to include dim=X as an argument.\n",
      "  soft_preds = nn.Softmax()(preds)\n",
      " 60%|██████    | 3/5 [08:34<05:43, 171.53s/it]"
     ]
    },
    {
     "name": "stdout",
     "output_type": "stream",
     "text": [
      "{'val_acc': tensor(0.9450, device='cuda:0'), 'val_loss': 0.1702744692970975}\n",
      "{'macro_precision': 0.9472135378269874, 'macro_recall': 0.9469736842105263, 'macro_f1': 0.9469974104230758}\n"
     ]
    },
    {
     "name": "stderr",
     "output_type": "stream",
     "text": [
      "  0%|          | 0/1875 [00:00<?, ?it/s]/tmp/ipykernel_600/2716866438.py:46: UserWarning: Implicit dimension choice for softmax has been deprecated. Change the call to include dim=X as an argument.\n",
      "  soft_preds = nn.Softmax()(preds)\n",
      "loss = 161.8933010972105  accuracy = 0.9375: 100%|██████████| 1875/1875 [02:48<00:00, 11.16it/s]   \n",
      "/tmp/ipykernel_600/2716866438.py:68: UserWarning: Implicit dimension choice for softmax has been deprecated. Change the call to include dim=X as an argument.\n",
      "  soft_preds = nn.Softmax()(preds)\n",
      " 80%|████████  | 4/5 [11:25<02:51, 171.34s/it]"
     ]
    },
    {
     "name": "stdout",
     "output_type": "stream",
     "text": [
      "{'val_acc': tensor(0.9484, device='cuda:0'), 'val_loss': 0.17554165922230533}\n",
      "{'macro_precision': 0.9507650783456986, 'macro_recall': 0.9503947368421053, 'macro_f1': 0.9505181696207576}\n"
     ]
    },
    {
     "name": "stderr",
     "output_type": "stream",
     "text": [
      "  0%|          | 0/1875 [00:00<?, ?it/s]/tmp/ipykernel_600/2716866438.py:46: UserWarning: Implicit dimension choice for softmax has been deprecated. Change the call to include dim=X as an argument.\n",
      "  soft_preds = nn.Softmax()(preds)\n",
      "loss = 124.59022658737376  accuracy = 1.0: 100%|██████████| 1875/1875 [02:48<00:00, 11.10it/s]     \n",
      "/tmp/ipykernel_600/2716866438.py:68: UserWarning: Implicit dimension choice for softmax has been deprecated. Change the call to include dim=X as an argument.\n",
      "  soft_preds = nn.Softmax()(preds)\n",
      "100%|██████████| 5/5 [14:17<00:00, 171.52s/it]"
     ]
    },
    {
     "name": "stdout",
     "output_type": "stream",
     "text": [
      "{'val_acc': tensor(0.9467, device='cuda:0'), 'val_loss': 0.20813293677672526}\n",
      "{'macro_precision': 0.9486707228274305, 'macro_recall': 0.9486842105263159, 'macro_f1': 0.9486463304954357}\n"
     ]
    },
    {
     "name": "stderr",
     "output_type": "stream",
     "text": [
      "\n"
     ]
    }
   ],
   "source": [
    "BATCH_SIZE = 64\n",
    "EPOCHS = 5\n",
    "DEVICE = 'cuda'\n",
    "#Wrapping up train dataset into dataloader\n",
    "train_tensor_dataset = TensorDataset(train_dataset_seq,train_dataset_masks,train_dataset_labels)\n",
    "train_sampler = RandomSampler(train_tensor_dataset)\n",
    "train_dataloader = DataLoader(train_tensor_dataset,sampler=train_sampler,batch_size=BATCH_SIZE)\n",
    "\n",
    "#Wrapping up validation dataset into dataloader\n",
    "val_tensor_dataset = TensorDataset(test_dataset_seq,test_dataset_masks,test_dataset_labels)\n",
    "val_sampler = RandomSampler(val_tensor_dataset)\n",
    "val_dataloader = DataLoader(val_tensor_dataset,sampler=val_sampler,batch_size=BATCH_SIZE)\n",
    "\n",
    "#initialize model and change the last layer output size to 4 \n",
    "model = RobertaForSequenceClassification.from_pretrained(\"roberta-base\")\n",
    "model.classifier.out_proj = torch.nn.Linear(768,4)\n",
    "model = model.to(DEVICE)\n",
    "\n",
    "# initialize the optimizer, loss and learningrate scheduler\n",
    "optimizer = optim.Adam(model.parameters(),lr = 2e-5)\n",
    "lr_scheduler = optim.lr_scheduler.ExponentialLR(optimizer,gamma=0.9)\n",
    "loss = nn.CrossEntropyLoss()\n",
    "\n",
    "#tracking variables\n",
    "macro_precisions=[]\n",
    "macro_recalls=[]\n",
    "macro_f1s=[]\n",
    "#Progress bar\n",
    "pbar = tqdm(range(EPOCHS),position=0,leave=True)\n",
    "\n",
    "\n",
    "# Training loop\n",
    "for epoch in pbar:\n",
    "    model.train()\n",
    "    train_loss=0\n",
    "    accuracy = 0\n",
    "    tbar = tqdm(train_dataloader,position=0,leave=True)\n",
    "    #Iterate over batches\n",
    "    for batch in tbar:\n",
    "        #First move batches to GPU and convert int and float to long datatype\n",
    "        batch = [t.to(DEVICE) for t in batch]\n",
    "        seq,mask,labels = batch\n",
    "        seq = seq.to(torch.long)\n",
    "        mask = mask.to(torch.long)\n",
    "        labels = labels.to(torch.long)\n",
    "\n",
    "        \n",
    "        model.zero_grad()\n",
    "\n",
    "        #Get predictions\n",
    "        preds = model(seq,mask).logits\n",
    "        batch_loss = loss(preds,labels)\n",
    "        train_loss+=batch_loss.item()\n",
    "\n",
    "        #Update gradients\n",
    "        batch_loss.backward()\n",
    "        #Clip grads to prevent explosion\n",
    "        torch.nn.utils.clip_grad_norm_(model.parameters(),1.0)\n",
    "        optimizer.step()\n",
    "\n",
    "        #Get training accuracy\n",
    "        soft_preds = nn.Softmax()(preds)\n",
    "        pred_class = torch.argmax(soft_preds,dim=1)\n",
    "        accuracy = (pred_class == labels).sum() / BATCH_SIZE\n",
    "\n",
    "        #Progress bar stuffs\n",
    "        tbar.set_description(f\"loss = {train_loss}  accuracy = {accuracy}\")\n",
    "        tbar.refresh() # to show immediately the update\n",
    "    \n",
    "    #Validation accuracy and loss tracking\n",
    "    model.eval()\n",
    "    val_acc=0\n",
    "    val_loss=0\n",
    "    v_idx=0\n",
    "    y_true=torch.Tensor([]).to(DEVICE)\n",
    "    y_pred=torch.Tensor([]).to(DEVICE)\n",
    "\n",
    "    for batch in val_dataloader:\n",
    "        #First move batches to GPU and convert int and float to long datatype\n",
    "        batch = [t.to(DEVICE) for t in batch]\n",
    "        seq,mask,labels = batch\n",
    "        seq = seq.to(torch.long)\n",
    "        mask = mask.to(torch.long)\n",
    "        labels = labels.to(torch.long)\n",
    "        #Get predictions\n",
    "        preds = model(seq,mask).logits\n",
    "        val_loss+= loss(preds,labels).item()\n",
    "        soft_preds = nn.Softmax()(preds)\n",
    "        pred_class = torch.argmax(soft_preds,dim=1)\n",
    "        #Get the validation accuracy percentage\n",
    "        val_acc += (pred_class == labels).sum() / BATCH_SIZE\n",
    "        v_idx+=1\n",
    "        y_true = torch.cat((y_true,labels))\n",
    "        y_pred = torch.cat((y_pred,pred_class))\n",
    "    \n",
    "    # Calculate Macro Precision, Recall, F1\n",
    "    macro_precision = precision_score(y_true.cpu(), y_pred.cpu(), average='macro')\n",
    "    macro_recall = recall_score(y_true.cpu(), y_pred.cpu(), average='macro')\n",
    "    macro_f1 = f1_score(y_true.cpu(), y_pred.cpu(), average='macro')\n",
    "    \n",
    "    print({'val_acc': val_acc/v_idx,'val_loss':val_loss/v_idx})\n",
    "    print({'macro_precision':macro_precision,'macro_recall':macro_recall,'macro_f1':macro_f1})\n",
    "    macro_precisions.append(macro_precision)\n",
    "    macro_recalls.append(macro_recall)\n",
    "    macro_f1s.append(macro_f1)\n",
    "           \n",
    "    #Step Learning Rate\n",
    "    lr_scheduler.step()\n",
    "    \n"
   ]
  },
  {
   "cell_type": "code",
   "execution_count": 21,
   "metadata": {},
   "outputs": [],
   "source": [
    "#Save Best model\n",
    "torch.save(model,\"FinalModel.pt\")"
   ]
  },
  {
   "attachments": {},
   "cell_type": "markdown",
   "metadata": {},
   "source": [
    "# Plot the graphs for Macro Precision, Macro F1 and Macro Recall"
   ]
  },
  {
   "cell_type": "code",
   "execution_count": 31,
   "metadata": {},
   "outputs": [
    {
     "data": {
      "image/png": "[encoded data removed]",
      "text/plain": [
       "<Figure size 640x480 with 1 Axes>"
      ]
     },
     "metadata": {},
     "output_type": "display_data"
    }
   ],
   "source": [
    "plt.plot([1,2,3,4,5],macro_precisions,label=\"macro_precision\")\n",
    "plt.xticks(np.arange(1, 6, 1.0))\n",
    "plt.xlabel(\"Epochs\")\n",
    "plt.ylabel(\"macro_precision\")\n",
    "plt.show()"
   ]
  },
  {
   "cell_type": "code",
   "execution_count": 32,
   "metadata": {},
   "outputs": [
    {
     "data": {
      "image/png": "[encoded data removed]",
      "text/plain": [
       "<Figure size 640x480 with 1 Axes>"
      ]
     },
     "metadata": {},
     "output_type": "display_data"
    }
   ],
   "source": [
    "plt.plot([1,2,3,4,5],macro_f1s,label=\"macro_f1s\")\n",
    "plt.xticks(np.arange(1, 6, 1.0))\n",
    "plt.xlabel(\"Epochs\")\n",
    "plt.ylabel(\"macro_f1s\")\n",
    "plt.show()"
   ]
  },
  {
   "cell_type": "code",
   "execution_count": 33,
   "metadata": {},
   "outputs": [
    {
     "data": {
      "image/png": "[encoded data removed]",
      "text/plain": [
       "<Figure size 640x480 with 1 Axes>"
      ]
     },
     "metadata": {},
     "output_type": "display_data"
    }
   ],
   "source": [
    "plt.plot([1,2,3,4,5],macro_recalls,label=\"macro_recalls\")\n",
    "plt.xticks(np.arange(1, 6, 1.0))\n",
    "plt.xlabel(\"Epochs\")\n",
    "plt.ylabel(\"macro_recalls\")\n",
    "plt.show()"
   ]
  }
 ],
 "metadata": {
  "kernelspec": {
   "display_name": "Python 3 (ipykernel)",
   "language": "python",
   "name": "python3"
  },
  "language_info": {
   "codemirror_mode": {
    "name": "ipython",
    "version": 3
   },
   "file_extension": ".py",
   "mimetype": "text/x-python",
   "name": "python",
   "nbconvert_exporter": "python",
   "pygments_lexer": "ipython3",
   "version": "3.10.8"
  }
 },
 "nbformat": 4,
 "nbformat_minor": 4
}
